{
 "cells": [
  {
   "cell_type": "code",
   "execution_count": 1,
   "id": "63fc456f",
   "metadata": {},
   "outputs": [],
   "source": [
    "import math\n",
    "import numpy as np\n",
    "import pandas as pd\n",
    "import matplotlib.pyplot as plt\n",
    "from sklearn.metrics import mean_squared_error\n",
    "from sklearn.preprocessing import MinMaxScaler"
   ]
  },
  {
   "cell_type": "markdown",
   "id": "ca330ba0",
   "metadata": {},
   "source": [
    "## set parameter"
   ]
  },
  {
   "cell_type": "code",
   "execution_count": 2,
   "id": "69e76527",
   "metadata": {},
   "outputs": [],
   "source": [
    "train_test_ratio = 0.8"
   ]
  },
  {
   "cell_type": "markdown",
   "id": "514b2010",
   "metadata": {},
   "source": [
    "## load data"
   ]
  },
  {
   "cell_type": "code",
   "execution_count": 3,
   "id": "ffb71054",
   "metadata": {},
   "outputs": [],
   "source": [
    "data=pd.read_csv(\"stock_data.csv\")"
   ]
  },
  {
   "cell_type": "code",
   "execution_count": 4,
   "id": "10b6d105",
   "metadata": {},
   "outputs": [],
   "source": [
    "data=data[::-1].reset_index(drop=True)"
   ]
  },
  {
   "cell_type": "code",
   "execution_count": 5,
   "id": "f6e329b6",
   "metadata": {},
   "outputs": [
    {
     "data": {
      "text/html": [
       "<div>\n",
       "<style scoped>\n",
       "    .dataframe tbody tr th:only-of-type {\n",
       "        vertical-align: middle;\n",
       "    }\n",
       "\n",
       "    .dataframe tbody tr th {\n",
       "        vertical-align: top;\n",
       "    }\n",
       "\n",
       "    .dataframe thead th {\n",
       "        text-align: right;\n",
       "    }\n",
       "</style>\n",
       "<table border=\"1\" class=\"dataframe\">\n",
       "  <thead>\n",
       "    <tr style=\"text-align: right;\">\n",
       "      <th></th>\n",
       "      <th>Date</th>\n",
       "      <th>Open</th>\n",
       "      <th>High</th>\n",
       "      <th>Low</th>\n",
       "      <th>Close</th>\n",
       "      <th>Volume</th>\n",
       "    </tr>\n",
       "  </thead>\n",
       "  <tbody>\n",
       "    <tr>\n",
       "      <th>0</th>\n",
       "      <td>2012/3/27</td>\n",
       "      <td>30.8</td>\n",
       "      <td>31.00</td>\n",
       "      <td>30.05</td>\n",
       "      <td>30.05</td>\n",
       "      <td>250.117</td>\n",
       "    </tr>\n",
       "    <tr>\n",
       "      <th>1</th>\n",
       "      <td>2012/3/28</td>\n",
       "      <td>30.1</td>\n",
       "      <td>30.10</td>\n",
       "      <td>29.55</td>\n",
       "      <td>29.70</td>\n",
       "      <td>253.665</td>\n",
       "    </tr>\n",
       "    <tr>\n",
       "      <th>2</th>\n",
       "      <td>2012/3/29</td>\n",
       "      <td>29.2</td>\n",
       "      <td>29.45</td>\n",
       "      <td>27.65</td>\n",
       "      <td>27.65</td>\n",
       "      <td>394.550</td>\n",
       "    </tr>\n",
       "    <tr>\n",
       "      <th>3</th>\n",
       "      <td>2012/3/30</td>\n",
       "      <td>27.1</td>\n",
       "      <td>28.80</td>\n",
       "      <td>26.90</td>\n",
       "      <td>28.50</td>\n",
       "      <td>230.055</td>\n",
       "    </tr>\n",
       "    <tr>\n",
       "      <th>4</th>\n",
       "      <td>2012/4/2</td>\n",
       "      <td>28.3</td>\n",
       "      <td>28.30</td>\n",
       "      <td>27.30</td>\n",
       "      <td>27.30</td>\n",
       "      <td>177.204</td>\n",
       "    </tr>\n",
       "    <tr>\n",
       "      <th>...</th>\n",
       "      <td>...</td>\n",
       "      <td>...</td>\n",
       "      <td>...</td>\n",
       "      <td>...</td>\n",
       "      <td>...</td>\n",
       "      <td>...</td>\n",
       "    </tr>\n",
       "    <tr>\n",
       "      <th>2447</th>\n",
       "      <td>2022/3/21</td>\n",
       "      <td>116.0</td>\n",
       "      <td>120.00</td>\n",
       "      <td>114.00</td>\n",
       "      <td>117.00</td>\n",
       "      <td>18370.022</td>\n",
       "    </tr>\n",
       "    <tr>\n",
       "      <th>2448</th>\n",
       "      <td>2022/3/22</td>\n",
       "      <td>115.5</td>\n",
       "      <td>118.00</td>\n",
       "      <td>114.00</td>\n",
       "      <td>117.50</td>\n",
       "      <td>7185.992</td>\n",
       "    </tr>\n",
       "    <tr>\n",
       "      <th>2449</th>\n",
       "      <td>2022/3/23</td>\n",
       "      <td>114.5</td>\n",
       "      <td>115.00</td>\n",
       "      <td>109.00</td>\n",
       "      <td>112.00</td>\n",
       "      <td>14177.186</td>\n",
       "    </tr>\n",
       "    <tr>\n",
       "      <th>2450</th>\n",
       "      <td>2022/3/24</td>\n",
       "      <td>111.0</td>\n",
       "      <td>121.00</td>\n",
       "      <td>110.50</td>\n",
       "      <td>121.00</td>\n",
       "      <td>15478.208</td>\n",
       "    </tr>\n",
       "    <tr>\n",
       "      <th>2451</th>\n",
       "      <td>2022/3/25</td>\n",
       "      <td>125.0</td>\n",
       "      <td>130.50</td>\n",
       "      <td>121.00</td>\n",
       "      <td>124.50</td>\n",
       "      <td>40297.703</td>\n",
       "    </tr>\n",
       "  </tbody>\n",
       "</table>\n",
       "<p>2452 rows × 6 columns</p>\n",
       "</div>"
      ],
      "text/plain": [
       "           Date   Open    High     Low   Close     Volume\n",
       "0     2012/3/27   30.8   31.00   30.05   30.05    250.117\n",
       "1     2012/3/28   30.1   30.10   29.55   29.70    253.665\n",
       "2     2012/3/29   29.2   29.45   27.65   27.65    394.550\n",
       "3     2012/3/30   27.1   28.80   26.90   28.50    230.055\n",
       "4      2012/4/2   28.3   28.30   27.30   27.30    177.204\n",
       "...         ...    ...     ...     ...     ...        ...\n",
       "2447  2022/3/21  116.0  120.00  114.00  117.00  18370.022\n",
       "2448  2022/3/22  115.5  118.00  114.00  117.50   7185.992\n",
       "2449  2022/3/23  114.5  115.00  109.00  112.00  14177.186\n",
       "2450  2022/3/24  111.0  121.00  110.50  121.00  15478.208\n",
       "2451  2022/3/25  125.0  130.50  121.00  124.50  40297.703\n",
       "\n",
       "[2452 rows x 6 columns]"
      ]
     },
     "execution_count": 5,
     "metadata": {},
     "output_type": "execute_result"
    }
   ],
   "source": [
    "data"
   ]
  },
  {
   "cell_type": "markdown",
   "id": "e2227e17",
   "metadata": {},
   "source": [
    "## preprocessing/F.E."
   ]
  },
  {
   "cell_type": "code",
   "execution_count": 6,
   "id": "d58dbfec",
   "metadata": {},
   "outputs": [],
   "source": [
    "# data=data.set_index('Date')"
   ]
  },
  {
   "cell_type": "code",
   "execution_count": 7,
   "id": "95458be8",
   "metadata": {},
   "outputs": [
    {
     "data": {
      "text/plain": [
       "[<matplotlib.lines.Line2D at 0x246917ea490>]"
      ]
     },
     "execution_count": 7,
     "metadata": {},
     "output_type": "execute_result"
    },
    {
     "data": {
      "image/png": "[encoded data removed]",
      "text/plain": [
       "<Figure size 432x288 with 1 Axes>"
      ]
     },
     "metadata": {
      "needs_background": "light"
     },
     "output_type": "display_data"
    }
   ],
   "source": [
    "plt.plot(data['Close'])"
   ]
  },
  {
   "cell_type": "code",
   "execution_count": 8,
   "id": "17cf57d8",
   "metadata": {},
   "outputs": [
    {
     "data": {
      "text/plain": [
       "[<matplotlib.lines.Line2D at 0x246938d5f70>]"
      ]
     },
     "execution_count": 8,
     "metadata": {},
     "output_type": "execute_result"
    },
    {
     "data": {
      "image/png": "[encoded data removed]",
      "text/plain": [
       "<Figure size 432x288 with 1 Axes>"
      ]
     },
     "metadata": {
      "needs_background": "light"
     },
     "output_type": "display_data"
    }
   ],
   "source": [
    "plt.plot(data['Volume'])"
   ]
  },
  {
   "cell_type": "code",
   "execution_count": 9,
   "id": "0ff6da11",
   "metadata": {},
   "outputs": [
    {
     "data": {
      "text/plain": [
       "Index(['Date', 'Open', 'High', 'Low', 'Close', 'Volume'], dtype='object')"
      ]
     },
     "execution_count": 9,
     "metadata": {},
     "output_type": "execute_result"
    }
   ],
   "source": [
    "data.columns"
   ]
  },
  {
   "cell_type": "code",
   "execution_count": 10,
   "id": "2fa5a8be",
   "metadata": {},
   "outputs": [],
   "source": [
    "scaler=MinMaxScaler(feature_range=(0,1))\n",
    "col=['Open', 'High', 'Low', 'Volume']\n",
    "data[col] = scaler.fit_transform(data[col])"
   ]
  },
  {
   "cell_type": "code",
   "execution_count": 11,
   "id": "1221e637",
   "metadata": {},
   "outputs": [],
   "source": [
    "close_scaler=MinMaxScaler(feature_range=(0,1))\n",
    "data['Close']=close_scaler.fit_transform(np.array(data['Close']).reshape(-1,1))"
   ]
  },
  {
   "cell_type": "code",
   "execution_count": 12,
   "id": "375c787b",
   "metadata": {},
   "outputs": [],
   "source": [
    "def create_dataset(data, time_step=100):\n",
    "    X,Y = [],[]\n",
    "    for i in range(len(data)-time_step-5+1):\n",
    "        col=['Open','High','Low','Close','Volume']\n",
    "        temp=data.iloc[i:(i+time_step)][col].values.tolist()\n",
    "        X.append(temp)\n",
    "        col='Close'\n",
    "        temp=data.iloc[i + time_step:i + time_step+5][col].values.tolist()\n",
    "        Y.append(temp)\n",
    "    return np.array(X),np.array(Y)"
   ]
  },
  {
   "cell_type": "code",
   "execution_count": 13,
   "id": "c3612e3b",
   "metadata": {},
   "outputs": [],
   "source": [
    "train_data=data[:]"
   ]
  },
  {
   "cell_type": "code",
   "execution_count": 14,
   "id": "eb06181e",
   "metadata": {},
   "outputs": [],
   "source": [
    "train_x, train_y = create_dataset(train_data)"
   ]
  },
  {
   "cell_type": "code",
   "execution_count": 15,
   "id": "57e38260",
   "metadata": {},
   "outputs": [
    {
     "name": "stdout",
     "output_type": "stream",
     "text": [
      "(2348, 100, 5) (2348, 5)\n"
     ]
    }
   ],
   "source": [
    "print(train_x.shape, train_y.shape)"
   ]
  },
  {
   "cell_type": "code",
   "execution_count": 16,
   "id": "a4ea46ad",
   "metadata": {},
   "outputs": [],
   "source": [
    "import tensorflow as tf\n",
    "from tensorflow.keras.models import Sequential\n",
    "from tensorflow.keras.layers import Dense,LSTM,Dropout"
   ]
  },
  {
   "cell_type": "code",
   "execution_count": 17,
   "id": "60065fb3",
   "metadata": {},
   "outputs": [],
   "source": [
    "model=Sequential()\n",
    "n_neurons = train_x.shape[1] * train_x.shape[2]\n",
    "\n",
    "model.add(LSTM(n_neurons,return_sequences=True,input_shape=(train_x.shape[1],train_x.shape[2])))\n",
    "model.add(LSTM(n_neurons,return_sequences=True))\n",
    "model.add(LSTM(n_neurons, return_sequences=False))\n",
    "model.add(Dense(100, activation='relu'))\n",
    "model.add(Dropout(0.5))\n",
    "model.add(Dense(25, activation='relu'))\n",
    "model.add(Dropout(0.5))\n",
    "model.add(Dense(5, activation='relu'))\n",
    "model.compile(optimizer='adam', loss='mse')"
   ]
  },
  {
   "cell_type": "code",
   "execution_count": 18,
   "id": "846a1708",
   "metadata": {
    "scrolled": true
   },
   "outputs": [
    {
     "name": "stdout",
     "output_type": "stream",
     "text": [
      "Model: \"sequential\"\n",
      "_________________________________________________________________\n",
      " Layer (type)                Output Shape              Param #   \n",
      "=================================================================\n",
      " lstm (LSTM)                 (None, 100, 500)          1012000   \n",
      "                                                                 \n",
      " lstm_1 (LSTM)               (None, 100, 500)          2002000   \n",
      "                                                                 \n",
      " lstm_2 (LSTM)               (None, 500)               2002000   \n",
      "                                                                 \n",
      " dense (Dense)               (None, 100)               50100     \n",
      "                                                                 \n",
      " dropout (Dropout)           (None, 100)               0         \n",
      "                                                                 \n",
      " dense_1 (Dense)             (None, 25)                2525      \n",
      "                                                                 \n",
      " dropout_1 (Dropout)         (None, 25)                0         \n",
      "                                                                 \n",
      " dense_2 (Dense)             (None, 5)                 130       \n",
      "                                                                 \n",
      "=================================================================\n",
      "Total params: 5,068,755\n",
      "Trainable params: 5,068,755\n",
      "Non-trainable params: 0\n",
      "_________________________________________________________________\n"
     ]
    }
   ],
   "source": [
    "model.summary()"
   ]
  },
  {
   "cell_type": "code",
   "execution_count": 19,
   "id": "35ce59ae",
   "metadata": {},
   "outputs": [
    {
     "name": "stdout",
     "output_type": "stream",
     "text": [
      "Epoch 1/100\n",
      "37/37 [==============================] - 11s 172ms/step - loss: 0.0669\n",
      "Epoch 2/100\n",
      "37/37 [==============================] - 6s 171ms/step - loss: 0.0414\n",
      "Epoch 3/100\n",
      "37/37 [==============================] - 6s 172ms/step - loss: 0.0283\n",
      "Epoch 4/100\n",
      "37/37 [==============================] - 6s 170ms/step - loss: 0.0216\n",
      "Epoch 5/100\n",
      "37/37 [==============================] - 6s 171ms/step - loss: 0.0171\n",
      "Epoch 6/100\n",
      "37/37 [==============================] - 6s 171ms/step - loss: 0.0152\n",
      "Epoch 7/100\n",
      "37/37 [==============================] - 6s 173ms/step - loss: 0.0131\n",
      "Epoch 8/100\n",
      "37/37 [==============================] - 6s 172ms/step - loss: 0.0113\n",
      "Epoch 9/100\n",
      "37/37 [==============================] - 6s 172ms/step - loss: 0.0097\n",
      "Epoch 10/100\n",
      "37/37 [==============================] - 6s 172ms/step - loss: 0.0090\n",
      "Epoch 11/100\n",
      "37/37 [==============================] - 6s 173ms/step - loss: 0.0086\n",
      "Epoch 12/100\n",
      "37/37 [==============================] - 6s 174ms/step - loss: 0.0082\n",
      "Epoch 13/100\n",
      "37/37 [==============================] - 6s 174ms/step - loss: 0.0082\n",
      "Epoch 14/100\n",
      "37/37 [==============================] - 6s 173ms/step - loss: 0.0072\n",
      "Epoch 15/100\n",
      "37/37 [==============================] - 6s 174ms/step - loss: 0.0069\n",
      "Epoch 16/100\n",
      "37/37 [==============================] - 6s 174ms/step - loss: 0.0070\n",
      "Epoch 17/100\n",
      "37/37 [==============================] - 6s 175ms/step - loss: 0.0070\n",
      "Epoch 18/100\n",
      "37/37 [==============================] - 6s 174ms/step - loss: 0.0065\n",
      "Epoch 19/100\n",
      "37/37 [==============================] - 6s 174ms/step - loss: 0.0060\n",
      "Epoch 20/100\n",
      "37/37 [==============================] - 6s 174ms/step - loss: 0.0062\n",
      "Epoch 21/100\n",
      "37/37 [==============================] - 6s 175ms/step - loss: 0.0056\n",
      "Epoch 22/100\n",
      "37/37 [==============================] - 6s 174ms/step - loss: 0.0059\n",
      "Epoch 23/100\n",
      "37/37 [==============================] - 6s 174ms/step - loss: 0.0056\n",
      "Epoch 24/100\n",
      "37/37 [==============================] - 6s 174ms/step - loss: 0.0057\n",
      "Epoch 25/100\n",
      "37/37 [==============================] - 6s 174ms/step - loss: 0.0051\n",
      "Epoch 26/100\n",
      "37/37 [==============================] - 6s 174ms/step - loss: 0.0051\n",
      "Epoch 27/100\n",
      "37/37 [==============================] - 7s 176ms/step - loss: 0.0055\n",
      "Epoch 28/100\n",
      "37/37 [==============================] - 6s 175ms/step - loss: 0.0054\n",
      "Epoch 29/100\n",
      "37/37 [==============================] - 7s 176ms/step - loss: 0.0053\n",
      "Epoch 30/100\n",
      "37/37 [==============================] - 7s 176ms/step - loss: 0.0052\n",
      "Epoch 31/100\n",
      "37/37 [==============================] - 7s 178ms/step - loss: 0.0052\n",
      "Epoch 32/100\n",
      "37/37 [==============================] - 6s 174ms/step - loss: 0.0049\n",
      "Epoch 33/100\n",
      "37/37 [==============================] - 7s 179ms/step - loss: 0.0049\n",
      "Epoch 34/100\n",
      "37/37 [==============================] - 7s 175ms/step - loss: 0.0047\n",
      "Epoch 35/100\n",
      "37/37 [==============================] - 7s 177ms/step - loss: 0.0046\n",
      "Epoch 36/100\n",
      "37/37 [==============================] - 7s 179ms/step - loss: 0.0048\n",
      "Epoch 37/100\n",
      "37/37 [==============================] - 7s 179ms/step - loss: 0.0052\n",
      "Epoch 38/100\n",
      "37/37 [==============================] - 7s 177ms/step - loss: 0.0046\n",
      "Epoch 39/100\n",
      "37/37 [==============================] - 7s 177ms/step - loss: 0.0044\n",
      "Epoch 40/100\n",
      "37/37 [==============================] - 7s 177ms/step - loss: 0.0041\n",
      "Epoch 41/100\n",
      "37/37 [==============================] - 7s 177ms/step - loss: 0.0045\n",
      "Epoch 42/100\n",
      "37/37 [==============================] - 7s 178ms/step - loss: 0.0045\n",
      "Epoch 43/100\n",
      "37/37 [==============================] - 7s 178ms/step - loss: 0.0048\n",
      "Epoch 44/100\n",
      "37/37 [==============================] - 7s 178ms/step - loss: 0.0047\n",
      "Epoch 45/100\n",
      "37/37 [==============================] - 7s 178ms/step - loss: 0.0042\n",
      "Epoch 46/100\n",
      "37/37 [==============================] - 7s 177ms/step - loss: 0.0044\n",
      "Epoch 47/100\n",
      "37/37 [==============================] - 7s 178ms/step - loss: 0.0042\n",
      "Epoch 48/100\n",
      "37/37 [==============================] - 7s 178ms/step - loss: 0.0043\n",
      "Epoch 49/100\n",
      "37/37 [==============================] - 7s 178ms/step - loss: 0.0041\n",
      "Epoch 50/100\n",
      "37/37 [==============================] - 7s 178ms/step - loss: 0.0042\n",
      "Epoch 51/100\n",
      "37/37 [==============================] - 7s 179ms/step - loss: 0.0049\n",
      "Epoch 52/100\n",
      "37/37 [==============================] - 7s 181ms/step - loss: 0.0043\n",
      "Epoch 53/100\n",
      "37/37 [==============================] - 7s 179ms/step - loss: 0.0041\n",
      "Epoch 54/100\n",
      "37/37 [==============================] - 7s 179ms/step - loss: 0.0041\n",
      "Epoch 55/100\n",
      "37/37 [==============================] - 7s 177ms/step - loss: 0.0041\n",
      "Epoch 56/100\n",
      "37/37 [==============================] - 7s 178ms/step - loss: 0.0042\n",
      "Epoch 57/100\n",
      "37/37 [==============================] - 7s 178ms/step - loss: 0.0040\n",
      "Epoch 58/100\n",
      "37/37 [==============================] - 7s 179ms/step - loss: 0.0040\n",
      "Epoch 59/100\n",
      "37/37 [==============================] - 7s 178ms/step - loss: 0.0038\n",
      "Epoch 60/100\n",
      "37/37 [==============================] - 7s 178ms/step - loss: 0.0041\n",
      "Epoch 61/100\n",
      "37/37 [==============================] - 7s 178ms/step - loss: 0.0045\n",
      "Epoch 62/100\n",
      "37/37 [==============================] - 7s 177ms/step - loss: 0.0042\n",
      "Epoch 63/100\n",
      "37/37 [==============================] - 7s 177ms/step - loss: 0.0038\n",
      "Epoch 64/100\n",
      "37/37 [==============================] - 7s 177ms/step - loss: 0.0037\n",
      "Epoch 65/100\n",
      "37/37 [==============================] - 7s 177ms/step - loss: 0.0043\n",
      "Epoch 66/100\n",
      "37/37 [==============================] - 7s 178ms/step - loss: 0.0043\n",
      "Epoch 67/100\n",
      "37/37 [==============================] - 7s 180ms/step - loss: 0.0041\n",
      "Epoch 68/100\n",
      "37/37 [==============================] - 7s 179ms/step - loss: 0.0039\n",
      "Epoch 69/100\n",
      "37/37 [==============================] - 7s 179ms/step - loss: 0.0039\n",
      "Epoch 70/100\n",
      "37/37 [==============================] - 7s 179ms/step - loss: 0.0037\n",
      "Epoch 71/100\n",
      "37/37 [==============================] - 7s 179ms/step - loss: 0.0038\n",
      "Epoch 72/100\n",
      "37/37 [==============================] - 7s 178ms/step - loss: 0.0042\n",
      "Epoch 73/100\n",
      "37/37 [==============================] - 7s 178ms/step - loss: 0.0036\n",
      "Epoch 74/100\n",
      "37/37 [==============================] - 7s 180ms/step - loss: 0.0041\n",
      "Epoch 75/100\n",
      "37/37 [==============================] - 7s 180ms/step - loss: 0.0041\n",
      "Epoch 76/100\n",
      "37/37 [==============================] - 7s 180ms/step - loss: 0.0041\n",
      "Epoch 77/100\n",
      "37/37 [==============================] - 7s 179ms/step - loss: 0.0037\n",
      "Epoch 78/100\n",
      "37/37 [==============================] - 7s 180ms/step - loss: 0.0040\n",
      "Epoch 79/100\n",
      "37/37 [==============================] - 7s 180ms/step - loss: 0.0036\n",
      "Epoch 80/100\n",
      "37/37 [==============================] - 7s 179ms/step - loss: 0.0041\n",
      "Epoch 81/100\n",
      "37/37 [==============================] - 7s 180ms/step - loss: 0.0041\n",
      "Epoch 82/100\n",
      "37/37 [==============================] - 7s 179ms/step - loss: 0.0037\n",
      "Epoch 83/100\n",
      "37/37 [==============================] - 7s 178ms/step - loss: 0.0044\n",
      "Epoch 84/100\n",
      "37/37 [==============================] - 7s 180ms/step - loss: 0.0042\n",
      "Epoch 85/100\n",
      "37/37 [==============================] - 7s 178ms/step - loss: 0.0039\n",
      "Epoch 86/100\n",
      "37/37 [==============================] - 7s 180ms/step - loss: 0.0040\n",
      "Epoch 87/100\n",
      "37/37 [==============================] - 7s 182ms/step - loss: 0.0044\n",
      "Epoch 88/100\n",
      "37/37 [==============================] - 7s 180ms/step - loss: 0.0043\n",
      "Epoch 89/100\n",
      "37/37 [==============================] - 7s 180ms/step - loss: 0.0038\n",
      "Epoch 90/100\n",
      "37/37 [==============================] - 7s 180ms/step - loss: 0.0041\n",
      "Epoch 91/100\n",
      "37/37 [==============================] - 7s 181ms/step - loss: 0.0045\n",
      "Epoch 92/100\n",
      "37/37 [==============================] - 7s 180ms/step - loss: 0.0037\n",
      "Epoch 93/100\n",
      "37/37 [==============================] - 7s 180ms/step - loss: 0.0039\n",
      "Epoch 94/100\n",
      "37/37 [==============================] - 7s 179ms/step - loss: 0.0037\n",
      "Epoch 95/100\n",
      "37/37 [==============================] - 7s 179ms/step - loss: 0.0040\n",
      "Epoch 96/100\n",
      "37/37 [==============================] - 7s 179ms/step - loss: 0.0040\n",
      "Epoch 97/100\n",
      "37/37 [==============================] - 7s 181ms/step - loss: 0.0041\n",
      "Epoch 98/100\n",
      "37/37 [==============================] - 7s 181ms/step - loss: 0.0039\n",
      "Epoch 99/100\n"
     ]
    },
    {
     "name": "stdout",
     "output_type": "stream",
     "text": [
      "37/37 [==============================] - 7s 181ms/step - loss: 0.0036\n",
      "Epoch 100/100\n",
      "37/37 [==============================] - 7s 181ms/step - loss: 0.0036\n"
     ]
    }
   ],
   "source": [
    "epochs = 100\n",
    "batch_size = 64\n",
    "history = model.fit(train_x,\n",
    "                    train_y, \n",
    "                    batch_size=batch_size, \n",
    "                    epochs=epochs,\n",
    "                   )"
   ]
  },
  {
   "cell_type": "code",
   "execution_count": 20,
   "id": "7c395646",
   "metadata": {},
   "outputs": [
    {
     "data": {
      "image/png": "[encoded data removed]",
      "text/plain": [
       "<Figure size 1440x720 with 1 Axes>"
      ]
     },
     "metadata": {
      "needs_background": "light"
     },
     "output_type": "display_data"
    }
   ],
   "source": [
    "fig, ax = plt.subplots(figsize=(20, 10), sharex=True)\n",
    "plt.plot(history.history[\"loss\"])\n",
    "plt.title(\"Model loss\")\n",
    "plt.ylabel(\"Loss\")\n",
    "plt.xlabel(\"Epoch\")\n",
    "ax.xaxis.set_major_locator(plt.MaxNLocator(epochs))\n",
    "plt.legend([\"Train\"], loc=\"upper left\")\n",
    "plt.grid()\n",
    "plt.show()"
   ]
  },
  {
   "cell_type": "code",
   "execution_count": 21,
   "id": "1d70283b",
   "metadata": {},
   "outputs": [],
   "source": [
    "train_predict=model.predict(train_x)"
   ]
  },
  {
   "cell_type": "code",
   "execution_count": 22,
   "id": "34ff344a",
   "metadata": {},
   "outputs": [
    {
     "data": {
      "text/plain": [
       "0.03663946214947102"
      ]
     },
     "execution_count": 22,
     "metadata": {},
     "output_type": "execute_result"
    }
   ],
   "source": [
    "math.sqrt(mean_squared_error(train_y,train_predict))"
   ]
  },
  {
   "cell_type": "code",
   "execution_count": 23,
   "id": "abec245e",
   "metadata": {},
   "outputs": [],
   "source": [
    "train_predict=[close_scaler.inverse_transform(i.reshape(-1,1)) for i in train_predict]"
   ]
  },
  {
   "cell_type": "code",
   "execution_count": 24,
   "id": "66fff5bd",
   "metadata": {},
   "outputs": [],
   "source": [
    "def five2one(five):\n",
    "    one = [[] for _ in range(len(five)+4)]\n",
    "    for i in range(len(five)):\n",
    "        for j in range(5):\n",
    "            one[i+j].append(float(five[i][j]))\n",
    "    return [sum(i)/len(i) for i in one]"
   ]
  },
  {
   "cell_type": "code",
   "execution_count": 25,
   "id": "d2ff11b5",
   "metadata": {},
   "outputs": [],
   "source": [
    "single_train_predict = five2one(train_predict)"
   ]
  },
  {
   "cell_type": "code",
   "execution_count": 26,
   "id": "edd8f276",
   "metadata": {},
   "outputs": [
    {
     "data": {
      "image/png": "[encoded data removed]",
      "text/plain": [
       "<Figure size 432x288 with 1 Axes>"
      ]
     },
     "metadata": {
      "needs_background": "light"
     },
     "output_type": "display_data"
    }
   ],
   "source": [
    "### Plotting \n",
    "# shift train predictions for plotting\n",
    "look_back=100\n",
    "trainPredictPlot = np.empty_like(data['Close'])\n",
    "trainPredictPlot[:] = np.nan\n",
    "trainPredictPlot[look_back:len(single_train_predict)+look_back] = single_train_predict\n",
    "# plot baseline and predictions\n",
    "plt.plot(close_scaler.inverse_transform(np.array(data['Close']).reshape(-1,1)))\n",
    "plt.plot(trainPredictPlot)\n",
    "plt.show()"
   ]
  },
  {
   "cell_type": "code",
   "execution_count": 27,
   "id": "9599b906",
   "metadata": {},
   "outputs": [],
   "source": [
    "newest=data[-100:][['Open','High','Low','Close','Volume']].values.tolist()"
   ]
  },
  {
   "cell_type": "code",
   "execution_count": 28,
   "id": "61912efc",
   "metadata": {},
   "outputs": [],
   "source": [
    "train_predict=model.predict([newest])"
   ]
  },
  {
   "cell_type": "code",
   "execution_count": 29,
   "id": "f1b4b0b4",
   "metadata": {},
   "outputs": [
    {
     "data": {
      "text/plain": [
       "array([[0.6135373 , 0.61252403, 0.61180985, 0.6106879 , 0.60865176]],\n",
       "      dtype=float32)"
      ]
     },
     "execution_count": 29,
     "metadata": {},
     "output_type": "execute_result"
    }
   ],
   "source": [
    "train_predict"
   ]
  },
  {
   "cell_type": "code",
   "execution_count": 30,
   "id": "50a7e2ba",
   "metadata": {},
   "outputs": [
    {
     "data": {
      "text/plain": [
       "array([[118.58868 ],\n",
       "       [118.42635 ],\n",
       "       [118.31194 ],\n",
       "       [118.1322  ],\n",
       "       [117.806015]], dtype=float32)"
      ]
     },
     "execution_count": 30,
     "metadata": {},
     "output_type": "execute_result"
    }
   ],
   "source": [
    "close_scaler.inverse_transform(train_predict.reshape(-1,1))"
   ]
  },
  {
   "cell_type": "code",
   "execution_count": null,
   "id": "1edee72b",
   "metadata": {},
   "outputs": [],
   "source": []
  }
 ],
 "metadata": {
  "kernelspec": {
   "display_name": "Python 3",
   "language": "python",
   "name": "python3"
  },
  "language_info": {
   "codemirror_mode": {
    "name": "ipython",
    "version": 3
   },
   "file_extension": ".py",
   "mimetype": "text/x-python",
   "name": "python",
   "nbconvert_exporter": "python",
   "pygments_lexer": "ipython3",
   "version": "3.9.2"
  }
 },
 "nbformat": 4,
 "nbformat_minor": 5
}
