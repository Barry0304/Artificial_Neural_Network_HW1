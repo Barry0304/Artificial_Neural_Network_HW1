{
 "cells": [
  {
   "cell_type": "code",
   "execution_count": 28,
   "id": "63fc456f",
   "metadata": {},
   "outputs": [],
   "source": [
    "import math\n",
    "import numpy as np\n",
    "import pandas as pd\n",
    "import matplotlib.pyplot as plt\n",
    "from sklearn.metrics import mean_squared_error\n",
    "from sklearn.preprocessing import MinMaxScaler"
   ]
  },
  {
   "cell_type": "markdown",
   "id": "5e3d2e39",
   "metadata": {},
   "source": [
    "## set parameter"
   ]
  },
  {
   "cell_type": "code",
   "execution_count": 2,
   "id": "8a9337ef",
   "metadata": {},
   "outputs": [],
   "source": [
    "train_test_ratio = 0.8"
   ]
  },
  {
   "cell_type": "markdown",
   "id": "d0b19e7b",
   "metadata": {},
   "source": [
    "## load data"
   ]
  },
  {
   "cell_type": "code",
   "execution_count": 3,
   "id": "ffb71054",
   "metadata": {},
   "outputs": [],
   "source": [
    "data=pd.read_csv(\"stock_data.csv\")"
   ]
  },
  {
   "cell_type": "code",
   "execution_count": 4,
   "id": "10b6d105",
   "metadata": {},
   "outputs": [],
   "source": [
    "data=data[::-1].reset_index(drop=True)"
   ]
  },
  {
   "cell_type": "code",
   "execution_count": 5,
   "id": "f81c2412",
   "metadata": {},
   "outputs": [
    {
     "data": {
      "text/html": [
       "<div>\n",
       "<style scoped>\n",
       "    .dataframe tbody tr th:only-of-type {\n",
       "        vertical-align: middle;\n",
       "    }\n",
       "\n",
       "    .dataframe tbody tr th {\n",
       "        vertical-align: top;\n",
       "    }\n",
       "\n",
       "    .dataframe thead th {\n",
       "        text-align: right;\n",
       "    }\n",
       "</style>\n",
       "<table border=\"1\" class=\"dataframe\">\n",
       "  <thead>\n",
       "    <tr style=\"text-align: right;\">\n",
       "      <th></th>\n",
       "      <th>Date</th>\n",
       "      <th>Open</th>\n",
       "      <th>High</th>\n",
       "      <th>Low</th>\n",
       "      <th>Close</th>\n",
       "      <th>Volume</th>\n",
       "    </tr>\n",
       "  </thead>\n",
       "  <tbody>\n",
       "    <tr>\n",
       "      <th>0</th>\n",
       "      <td>2012/3/27</td>\n",
       "      <td>30.8</td>\n",
       "      <td>31.00</td>\n",
       "      <td>30.05</td>\n",
       "      <td>30.05</td>\n",
       "      <td>250.117</td>\n",
       "    </tr>\n",
       "    <tr>\n",
       "      <th>1</th>\n",
       "      <td>2012/3/28</td>\n",
       "      <td>30.1</td>\n",
       "      <td>30.10</td>\n",
       "      <td>29.55</td>\n",
       "      <td>29.70</td>\n",
       "      <td>253.665</td>\n",
       "    </tr>\n",
       "    <tr>\n",
       "      <th>2</th>\n",
       "      <td>2012/3/29</td>\n",
       "      <td>29.2</td>\n",
       "      <td>29.45</td>\n",
       "      <td>27.65</td>\n",
       "      <td>27.65</td>\n",
       "      <td>394.550</td>\n",
       "    </tr>\n",
       "    <tr>\n",
       "      <th>3</th>\n",
       "      <td>2012/3/30</td>\n",
       "      <td>27.1</td>\n",
       "      <td>28.80</td>\n",
       "      <td>26.90</td>\n",
       "      <td>28.50</td>\n",
       "      <td>230.055</td>\n",
       "    </tr>\n",
       "    <tr>\n",
       "      <th>4</th>\n",
       "      <td>2012/4/2</td>\n",
       "      <td>28.3</td>\n",
       "      <td>28.30</td>\n",
       "      <td>27.30</td>\n",
       "      <td>27.30</td>\n",
       "      <td>177.204</td>\n",
       "    </tr>\n",
       "    <tr>\n",
       "      <th>...</th>\n",
       "      <td>...</td>\n",
       "      <td>...</td>\n",
       "      <td>...</td>\n",
       "      <td>...</td>\n",
       "      <td>...</td>\n",
       "      <td>...</td>\n",
       "    </tr>\n",
       "    <tr>\n",
       "      <th>2447</th>\n",
       "      <td>2022/3/21</td>\n",
       "      <td>116.0</td>\n",
       "      <td>120.00</td>\n",
       "      <td>114.00</td>\n",
       "      <td>117.00</td>\n",
       "      <td>18370.022</td>\n",
       "    </tr>\n",
       "    <tr>\n",
       "      <th>2448</th>\n",
       "      <td>2022/3/22</td>\n",
       "      <td>115.5</td>\n",
       "      <td>118.00</td>\n",
       "      <td>114.00</td>\n",
       "      <td>117.50</td>\n",
       "      <td>7185.992</td>\n",
       "    </tr>\n",
       "    <tr>\n",
       "      <th>2449</th>\n",
       "      <td>2022/3/23</td>\n",
       "      <td>114.5</td>\n",
       "      <td>115.00</td>\n",
       "      <td>109.00</td>\n",
       "      <td>112.00</td>\n",
       "      <td>14177.186</td>\n",
       "    </tr>\n",
       "    <tr>\n",
       "      <th>2450</th>\n",
       "      <td>2022/3/24</td>\n",
       "      <td>111.0</td>\n",
       "      <td>121.00</td>\n",
       "      <td>110.50</td>\n",
       "      <td>121.00</td>\n",
       "      <td>15478.208</td>\n",
       "    </tr>\n",
       "    <tr>\n",
       "      <th>2451</th>\n",
       "      <td>2022/3/25</td>\n",
       "      <td>125.0</td>\n",
       "      <td>130.50</td>\n",
       "      <td>121.00</td>\n",
       "      <td>124.50</td>\n",
       "      <td>40297.703</td>\n",
       "    </tr>\n",
       "  </tbody>\n",
       "</table>\n",
       "<p>2452 rows × 6 columns</p>\n",
       "</div>"
      ],
      "text/plain": [
       "           Date   Open    High     Low   Close     Volume\n",
       "0     2012/3/27   30.8   31.00   30.05   30.05    250.117\n",
       "1     2012/3/28   30.1   30.10   29.55   29.70    253.665\n",
       "2     2012/3/29   29.2   29.45   27.65   27.65    394.550\n",
       "3     2012/3/30   27.1   28.80   26.90   28.50    230.055\n",
       "4      2012/4/2   28.3   28.30   27.30   27.30    177.204\n",
       "...         ...    ...     ...     ...     ...        ...\n",
       "2447  2022/3/21  116.0  120.00  114.00  117.00  18370.022\n",
       "2448  2022/3/22  115.5  118.00  114.00  117.50   7185.992\n",
       "2449  2022/3/23  114.5  115.00  109.00  112.00  14177.186\n",
       "2450  2022/3/24  111.0  121.00  110.50  121.00  15478.208\n",
       "2451  2022/3/25  125.0  130.50  121.00  124.50  40297.703\n",
       "\n",
       "[2452 rows x 6 columns]"
      ]
     },
     "execution_count": 5,
     "metadata": {},
     "output_type": "execute_result"
    }
   ],
   "source": [
    "data"
   ]
  },
  {
   "cell_type": "markdown",
   "id": "417a48ec",
   "metadata": {},
   "source": [
    "## preprocessing/F.E."
   ]
  },
  {
   "cell_type": "code",
   "execution_count": 6,
   "id": "07f9edcb",
   "metadata": {},
   "outputs": [],
   "source": [
    "# data=data.set_index('Date')"
   ]
  },
  {
   "cell_type": "code",
   "execution_count": 7,
   "id": "551b1785",
   "metadata": {},
   "outputs": [
    {
     "data": {
      "text/plain": [
       "[<matplotlib.lines.Line2D at 0x1eea98ed430>]"
      ]
     },
     "execution_count": 7,
     "metadata": {},
     "output_type": "execute_result"
    },
    {
     "data": {
      "image/png": "[encoded data removed]",
      "text/plain": [
       "<Figure size 432x288 with 1 Axes>"
      ]
     },
     "metadata": {
      "needs_background": "light"
     },
     "output_type": "display_data"
    }
   ],
   "source": [
    "plt.plot(data['Close'])"
   ]
  },
  {
   "cell_type": "code",
   "execution_count": 8,
   "id": "415a65b7",
   "metadata": {},
   "outputs": [
    {
     "data": {
      "text/plain": [
       "[<matplotlib.lines.Line2D at 0x1eeab9d6f10>]"
      ]
     },
     "execution_count": 8,
     "metadata": {},
     "output_type": "execute_result"
    },
    {
     "data": {
      "image/png": "[encoded data removed]",
      "text/plain": [
       "<Figure size 432x288 with 1 Axes>"
      ]
     },
     "metadata": {
      "needs_background": "light"
     },
     "output_type": "display_data"
    }
   ],
   "source": [
    "plt.plot(data['Volume'])"
   ]
  },
  {
   "cell_type": "code",
   "execution_count": 9,
   "id": "adeb87a8",
   "metadata": {},
   "outputs": [
    {
     "data": {
      "text/plain": [
       "Index(['Date', 'Open', 'High', 'Low', 'Close', 'Volume'], dtype='object')"
      ]
     },
     "execution_count": 9,
     "metadata": {},
     "output_type": "execute_result"
    }
   ],
   "source": [
    "data.columns"
   ]
  },
  {
   "cell_type": "code",
   "execution_count": 10,
   "id": "92e06f4b",
   "metadata": {},
   "outputs": [],
   "source": [
    "scaler=MinMaxScaler(feature_range=(0,1))\n",
    "col=['Open', 'High', 'Low', 'Volume']\n",
    "data[col] = scaler.fit_transform(data[col])"
   ]
  },
  {
   "cell_type": "code",
   "execution_count": 11,
   "id": "a656343b",
   "metadata": {},
   "outputs": [],
   "source": [
    "close_scaler=MinMaxScaler(feature_range=(0,1))\n",
    "data['Close']=close_scaler.fit_transform(np.array(data['Close']).reshape(-1,1))"
   ]
  },
  {
   "cell_type": "code",
   "execution_count": 12,
   "id": "9374c618",
   "metadata": {},
   "outputs": [],
   "source": [
    "def create_dataset(data, time_step=100):\n",
    "    X,Y = [],[]\n",
    "    for i in range(len(data)-time_step-5+1):\n",
    "        col=['Open','High','Low','Close','Volume']\n",
    "        temp=data.iloc[i:(i+time_step)][col].values.tolist()\n",
    "        X.append(temp)\n",
    "        col='Close'\n",
    "        temp=data.iloc[i + time_step:i + time_step+5][col].values.tolist()\n",
    "        Y.append(temp)\n",
    "    return np.array(X),np.array(Y)"
   ]
  },
  {
   "cell_type": "code",
   "execution_count": 13,
   "id": "1cd7ec2e",
   "metadata": {},
   "outputs": [],
   "source": [
    "train_size=int(len(data)*train_test_ratio)\n",
    "test_size=len(data)-train_size\n",
    "train_data=data[:train_size]\n",
    "test_data=data[-test_size:]"
   ]
  },
  {
   "cell_type": "code",
   "execution_count": 14,
   "id": "bd3e59e8",
   "metadata": {},
   "outputs": [],
   "source": [
    "train_x, train_y = create_dataset(train_data)\n",
    "test_x, test_y = create_dataset(test_data)"
   ]
  },
  {
   "cell_type": "code",
   "execution_count": 15,
   "id": "5f98b485",
   "metadata": {},
   "outputs": [
    {
     "name": "stdout",
     "output_type": "stream",
     "text": [
      "(1857, 100, 5) (1857, 5)\n",
      "(387, 100, 5) (387, 5)\n"
     ]
    }
   ],
   "source": [
    "print(train_x.shape, train_y.shape)\n",
    "print(test_x.shape, test_y.shape)"
   ]
  },
  {
   "cell_type": "code",
   "execution_count": 16,
   "id": "e481b755",
   "metadata": {},
   "outputs": [],
   "source": [
    "import tensorflow as tf\n",
    "from tensorflow.keras.models import Sequential\n",
    "from tensorflow.keras.layers import Dense,LSTM,Dropout"
   ]
  },
  {
   "cell_type": "code",
   "execution_count": 17,
   "id": "3a1cd77c",
   "metadata": {},
   "outputs": [],
   "source": [
    "model=Sequential()\n",
    "n_neurons = train_x.shape[1] * train_x.shape[2]\n",
    "\n",
    "model.add(LSTM(n_neurons,return_sequences=True,input_shape=(train_x.shape[1],train_x.shape[2])))\n",
    "model.add(LSTM(n_neurons,return_sequences=True))\n",
    "model.add(LSTM(n_neurons, return_sequences=False))\n",
    "model.add(Dense(100, activation='relu'))\n",
    "model.add(Dropout(0.5))\n",
    "model.add(Dense(25, activation='relu'))\n",
    "model.add(Dropout(0.5))\n",
    "model.add(Dense(5, activation='relu'))\n",
    "model.compile(optimizer='adam', loss='mse')"
   ]
  },
  {
   "cell_type": "code",
   "execution_count": 18,
   "id": "e8d76a0a",
   "metadata": {
    "scrolled": true
   },
   "outputs": [
    {
     "name": "stdout",
     "output_type": "stream",
     "text": [
      "Model: \"sequential\"\n",
      "_________________________________________________________________\n",
      " Layer (type)                Output Shape              Param #   \n",
      "=================================================================\n",
      " lstm (LSTM)                 (None, 100, 500)          1012000   \n",
      "                                                                 \n",
      " lstm_1 (LSTM)               (None, 100, 500)          2002000   \n",
      "                                                                 \n",
      " lstm_2 (LSTM)               (None, 500)               2002000   \n",
      "                                                                 \n",
      " dense (Dense)               (None, 100)               50100     \n",
      "                                                                 \n",
      " dropout (Dropout)           (None, 100)               0         \n",
      "                                                                 \n",
      " dense_1 (Dense)             (None, 25)                2525      \n",
      "                                                                 \n",
      " dropout_1 (Dropout)         (None, 25)                0         \n",
      "                                                                 \n",
      " dense_2 (Dense)             (None, 5)                 130       \n",
      "                                                                 \n",
      "=================================================================\n",
      "Total params: 5,068,755\n",
      "Trainable params: 5,068,755\n",
      "Non-trainable params: 0\n",
      "_________________________________________________________________\n"
     ]
    }
   ],
   "source": [
    "model.summary()"
   ]
  },
  {
   "cell_type": "code",
   "execution_count": 19,
   "id": "72993957",
   "metadata": {},
   "outputs": [
    {
     "name": "stdout",
     "output_type": "stream",
     "text": [
      "Epoch 1/100\n",
      "30/30 [==============================] - 10s 214ms/step - loss: 0.0821 - val_loss: 0.0357\n",
      "Epoch 2/100\n",
      "30/30 [==============================] - 5s 181ms/step - loss: 0.0616 - val_loss: 0.0291\n",
      "Epoch 3/100\n",
      "30/30 [==============================] - 5s 181ms/step - loss: 0.0423 - val_loss: 0.0094\n",
      "Epoch 4/100\n",
      "30/30 [==============================] - 5s 180ms/step - loss: 0.0348 - val_loss: 0.0279\n",
      "Epoch 5/100\n",
      "30/30 [==============================] - 5s 181ms/step - loss: 0.0275 - val_loss: 0.0032\n",
      "Epoch 6/100\n",
      "30/30 [==============================] - 5s 181ms/step - loss: 0.0220 - val_loss: 0.0039\n",
      "Epoch 7/100\n",
      "30/30 [==============================] - 5s 181ms/step - loss: 0.0175 - val_loss: 0.0246\n",
      "Epoch 8/100\n",
      "30/30 [==============================] - 5s 182ms/step - loss: 0.0174 - val_loss: 0.0116\n",
      "Epoch 9/100\n",
      "30/30 [==============================] - 5s 181ms/step - loss: 0.0146 - val_loss: 0.0036\n",
      "Epoch 10/100\n",
      "30/30 [==============================] - 5s 182ms/step - loss: 0.0127 - val_loss: 0.0086\n",
      "Epoch 11/100\n",
      "30/30 [==============================] - 5s 183ms/step - loss: 0.0128 - val_loss: 0.0022\n",
      "Epoch 12/100\n",
      "30/30 [==============================] - 5s 182ms/step - loss: 0.0107 - val_loss: 0.0047\n",
      "Epoch 13/100\n",
      "30/30 [==============================] - 5s 182ms/step - loss: 0.0103 - val_loss: 0.0032\n",
      "Epoch 14/100\n",
      "30/30 [==============================] - 5s 182ms/step - loss: 0.0089 - val_loss: 0.0032\n",
      "Epoch 15/100\n",
      "30/30 [==============================] - 5s 182ms/step - loss: 0.0084 - val_loss: 0.0042\n",
      "Epoch 16/100\n",
      "30/30 [==============================] - 5s 183ms/step - loss: 0.0081 - val_loss: 0.0021\n",
      "Epoch 17/100\n",
      "30/30 [==============================] - 5s 183ms/step - loss: 0.0089 - val_loss: 0.0036\n",
      "Epoch 18/100\n",
      "30/30 [==============================] - 5s 183ms/step - loss: 0.0085 - val_loss: 0.0034\n",
      "Epoch 19/100\n",
      "30/30 [==============================] - 5s 183ms/step - loss: 0.0075 - val_loss: 0.0052\n",
      "Epoch 20/100\n",
      "30/30 [==============================] - 5s 183ms/step - loss: 0.0075 - val_loss: 0.0032\n",
      "Epoch 21/100\n",
      "30/30 [==============================] - 5s 182ms/step - loss: 0.0073 - val_loss: 0.0042\n",
      "Epoch 22/100\n",
      "30/30 [==============================] - 5s 183ms/step - loss: 0.0080 - val_loss: 0.0020\n",
      "Epoch 23/100\n",
      "30/30 [==============================] - 6s 185ms/step - loss: 0.0074 - val_loss: 0.0018\n",
      "Epoch 24/100\n",
      "30/30 [==============================] - 5s 183ms/step - loss: 0.0071 - val_loss: 0.0024\n",
      "Epoch 25/100\n",
      "30/30 [==============================] - 5s 184ms/step - loss: 0.0068 - val_loss: 0.0024\n",
      "Epoch 26/100\n",
      "30/30 [==============================] - 6s 184ms/step - loss: 0.0064 - val_loss: 0.0016\n",
      "Epoch 27/100\n",
      "30/30 [==============================] - 6s 184ms/step - loss: 0.0073 - val_loss: 0.0021\n",
      "Epoch 28/100\n",
      "30/30 [==============================] - 5s 184ms/step - loss: 0.0061 - val_loss: 0.0021\n",
      "Epoch 29/100\n",
      "30/30 [==============================] - 5s 184ms/step - loss: 0.0061 - val_loss: 0.0021\n",
      "Epoch 30/100\n",
      "30/30 [==============================] - 6s 184ms/step - loss: 0.0068 - val_loss: 0.0018\n",
      "Epoch 31/100\n",
      "30/30 [==============================] - 6s 184ms/step - loss: 0.0068 - val_loss: 0.0048\n",
      "Epoch 32/100\n",
      "30/30 [==============================] - 6s 184ms/step - loss: 0.0061 - val_loss: 0.0044\n",
      "Epoch 33/100\n",
      "30/30 [==============================] - 6s 185ms/step - loss: 0.0062 - val_loss: 0.0042\n",
      "Epoch 34/100\n",
      "30/30 [==============================] - 6s 184ms/step - loss: 0.0067 - val_loss: 0.0031\n",
      "Epoch 35/100\n",
      "30/30 [==============================] - 6s 185ms/step - loss: 0.0061 - val_loss: 0.0014\n",
      "Epoch 36/100\n",
      "30/30 [==============================] - 6s 184ms/step - loss: 0.0060 - val_loss: 0.0018\n",
      "Epoch 37/100\n",
      "30/30 [==============================] - 6s 184ms/step - loss: 0.0062 - val_loss: 0.0016\n",
      "Epoch 38/100\n",
      "30/30 [==============================] - 6s 185ms/step - loss: 0.0057 - val_loss: 0.0015\n",
      "Epoch 39/100\n",
      "30/30 [==============================] - 6s 185ms/step - loss: 0.0055 - val_loss: 0.0016\n",
      "Epoch 40/100\n",
      "30/30 [==============================] - 6s 185ms/step - loss: 0.0055 - val_loss: 0.0018\n",
      "Epoch 41/100\n",
      "30/30 [==============================] - 6s 185ms/step - loss: 0.0058 - val_loss: 0.0021\n",
      "Epoch 42/100\n",
      "30/30 [==============================] - 6s 186ms/step - loss: 0.0053 - val_loss: 0.0029\n",
      "Epoch 43/100\n",
      "30/30 [==============================] - 6s 186ms/step - loss: 0.0057 - val_loss: 0.0028\n",
      "Epoch 44/100\n",
      "30/30 [==============================] - 6s 186ms/step - loss: 0.0059 - val_loss: 0.0021\n",
      "Epoch 45/100\n",
      "30/30 [==============================] - 6s 188ms/step - loss: 0.0058 - val_loss: 0.0014\n",
      "Epoch 46/100\n",
      "30/30 [==============================] - 6s 187ms/step - loss: 0.0050 - val_loss: 0.0020\n",
      "Epoch 47/100\n",
      "30/30 [==============================] - 6s 186ms/step - loss: 0.0058 - val_loss: 0.0027\n",
      "Epoch 48/100\n",
      "30/30 [==============================] - 6s 185ms/step - loss: 0.0057 - val_loss: 0.0020\n",
      "Epoch 49/100\n",
      "30/30 [==============================] - 6s 186ms/step - loss: 0.0059 - val_loss: 0.0013\n",
      "Epoch 50/100\n",
      "30/30 [==============================] - 6s 186ms/step - loss: 0.0056 - val_loss: 0.0029\n",
      "Epoch 51/100\n",
      "30/30 [==============================] - 6s 186ms/step - loss: 0.0049 - val_loss: 0.0016\n",
      "Epoch 52/100\n",
      "30/30 [==============================] - 6s 187ms/step - loss: 0.0047 - val_loss: 0.0023\n",
      "Epoch 53/100\n",
      "30/30 [==============================] - 6s 186ms/step - loss: 0.0048 - val_loss: 0.0014\n",
      "Epoch 54/100\n",
      "30/30 [==============================] - 6s 186ms/step - loss: 0.0051 - val_loss: 0.0012\n",
      "Epoch 55/100\n",
      "30/30 [==============================] - 6s 187ms/step - loss: 0.0050 - val_loss: 0.0022\n",
      "Epoch 56/100\n",
      "30/30 [==============================] - 6s 187ms/step - loss: 0.0046 - val_loss: 0.0014\n",
      "Epoch 57/100\n",
      "30/30 [==============================] - 6s 187ms/step - loss: 0.0052 - val_loss: 0.0026\n",
      "Epoch 58/100\n",
      "30/30 [==============================] - 6s 189ms/step - loss: 0.0051 - val_loss: 0.0014\n",
      "Epoch 59/100\n",
      "30/30 [==============================] - 6s 186ms/step - loss: 0.0058 - val_loss: 0.0014\n",
      "Epoch 60/100\n",
      "30/30 [==============================] - 6s 187ms/step - loss: 0.0051 - val_loss: 0.0012\n",
      "Epoch 61/100\n",
      "30/30 [==============================] - 6s 185ms/step - loss: 0.0057 - val_loss: 0.0016\n",
      "Epoch 62/100\n",
      "30/30 [==============================] - 6s 186ms/step - loss: 0.0054 - val_loss: 0.0024\n",
      "Epoch 63/100\n",
      "30/30 [==============================] - 6s 186ms/step - loss: 0.0057 - val_loss: 0.0015\n",
      "Epoch 64/100\n",
      "30/30 [==============================] - 6s 186ms/step - loss: 0.0050 - val_loss: 0.0021\n",
      "Epoch 65/100\n",
      "30/30 [==============================] - 6s 186ms/step - loss: 0.0050 - val_loss: 0.0015\n",
      "Epoch 66/100\n",
      "30/30 [==============================] - 6s 186ms/step - loss: 0.0045 - val_loss: 0.0024\n",
      "Epoch 67/100\n",
      "30/30 [==============================] - 6s 186ms/step - loss: 0.0045 - val_loss: 0.0013\n",
      "Epoch 68/100\n",
      "30/30 [==============================] - 6s 186ms/step - loss: 0.0050 - val_loss: 0.0015\n",
      "Epoch 69/100\n",
      "30/30 [==============================] - 6s 187ms/step - loss: 0.0052 - val_loss: 0.0013\n",
      "Epoch 70/100\n",
      "30/30 [==============================] - 6s 189ms/step - loss: 0.0054 - val_loss: 0.0055\n",
      "Epoch 71/100\n",
      "30/30 [==============================] - 6s 186ms/step - loss: 0.0049 - val_loss: 0.0017\n",
      "Epoch 72/100\n",
      "30/30 [==============================] - 6s 185ms/step - loss: 0.0055 - val_loss: 0.0093\n",
      "Epoch 73/100\n",
      "30/30 [==============================] - 6s 188ms/step - loss: 0.0069 - val_loss: 0.0019\n",
      "Epoch 74/100\n",
      "30/30 [==============================] - 6s 186ms/step - loss: 0.0052 - val_loss: 0.0013\n",
      "Epoch 75/100\n",
      "30/30 [==============================] - 6s 186ms/step - loss: 0.0048 - val_loss: 0.0019\n",
      "Epoch 76/100\n",
      "30/30 [==============================] - 6s 186ms/step - loss: 0.0056 - val_loss: 0.0043\n",
      "Epoch 77/100\n",
      "30/30 [==============================] - 6s 187ms/step - loss: 0.0056 - val_loss: 0.0014\n",
      "Epoch 78/100\n",
      "30/30 [==============================] - 6s 189ms/step - loss: 0.0053 - val_loss: 0.0014\n",
      "Epoch 79/100\n",
      "30/30 [==============================] - 6s 186ms/step - loss: 0.0052 - val_loss: 0.0015\n",
      "Epoch 80/100\n",
      "30/30 [==============================] - 6s 188ms/step - loss: 0.0052 - val_loss: 0.0016\n",
      "Epoch 81/100\n",
      "30/30 [==============================] - 6s 190ms/step - loss: 0.0047 - val_loss: 0.0018\n",
      "Epoch 82/100\n",
      "30/30 [==============================] - 6s 190ms/step - loss: 0.0041 - val_loss: 0.0013\n",
      "Epoch 83/100\n",
      "30/30 [==============================] - 6s 188ms/step - loss: 0.0049 - val_loss: 0.0020\n",
      "Epoch 84/100\n",
      "30/30 [==============================] - 6s 188ms/step - loss: 0.0044 - val_loss: 0.0016\n",
      "Epoch 85/100\n",
      "30/30 [==============================] - 6s 187ms/step - loss: 0.0044 - val_loss: 0.0017\n",
      "Epoch 86/100\n",
      "30/30 [==============================] - 6s 186ms/step - loss: 0.0046 - val_loss: 0.0014\n",
      "Epoch 87/100\n",
      "30/30 [==============================] - 6s 190ms/step - loss: 0.0053 - val_loss: 0.0021\n",
      "Epoch 88/100\n",
      "30/30 [==============================] - 6s 187ms/step - loss: 0.0046 - val_loss: 0.0016\n",
      "Epoch 89/100\n",
      "30/30 [==============================] - 6s 189ms/step - loss: 0.0045 - val_loss: 0.0018\n",
      "Epoch 90/100\n",
      "30/30 [==============================] - 6s 186ms/step - loss: 0.0048 - val_loss: 0.0021\n",
      "Epoch 91/100\n",
      "30/30 [==============================] - 6s 188ms/step - loss: 0.0044 - val_loss: 0.0017\n",
      "Epoch 92/100\n",
      "30/30 [==============================] - 6s 188ms/step - loss: 0.0051 - val_loss: 0.0012\n",
      "Epoch 93/100\n",
      "30/30 [==============================] - 6s 190ms/step - loss: 0.0048 - val_loss: 0.0015\n",
      "Epoch 94/100\n",
      "30/30 [==============================] - 6s 190ms/step - loss: 0.0043 - val_loss: 0.0013\n",
      "Epoch 95/100\n",
      "30/30 [==============================] - 6s 189ms/step - loss: 0.0046 - val_loss: 0.0012\n",
      "Epoch 96/100\n",
      "30/30 [==============================] - 6s 189ms/step - loss: 0.0047 - val_loss: 0.0022\n",
      "Epoch 97/100\n",
      "30/30 [==============================] - 6s 189ms/step - loss: 0.0043 - val_loss: 0.0013\n",
      "Epoch 98/100\n",
      "30/30 [==============================] - 6s 188ms/step - loss: 0.0060 - val_loss: 0.0018\n",
      "Epoch 99/100\n",
      "30/30 [==============================] - 6s 189ms/step - loss: 0.0049 - val_loss: 0.0034\n",
      "Epoch 100/100\n",
      "30/30 [==============================] - 6s 188ms/step - loss: 0.0056 - val_loss: 0.0013\n"
     ]
    }
   ],
   "source": [
    "epochs = 100\n",
    "batch_size = 64\n",
    "history = model.fit(train_x,\n",
    "                    train_y, \n",
    "                    batch_size=batch_size, \n",
    "                    epochs=epochs,\n",
    "                    validation_data=(test_x, test_y)\n",
    "                   )"
   ]
  },
  {
   "cell_type": "code",
   "execution_count": 31,
   "id": "607b7be6",
   "metadata": {},
   "outputs": [
    {
     "data": {
      "image/png": "[encoded data removed]",
      "text/plain": [
       "<Figure size 1080x720 with 1 Axes>"
      ]
     },
     "metadata": {
      "needs_background": "light"
     },
     "output_type": "display_data"
    }
   ],
   "source": [
    "fig, ax = plt.subplots(figsize=(15, 10), sharex=True)\n",
    "plt.plot(history.history[\"loss\"])\n",
    "plt.plot(history.history['val_loss'])\n",
    "plt.title(\"Model loss\")\n",
    "plt.ylabel(\"Loss\")\n",
    "plt.xlabel(\"Epoch\")\n",
    "# ax.xaxis.set_major_locator(plt.MaxNLocator(epochs))\n",
    "plt.legend([\"Train\", \"Test\"], loc=\"upper left\")\n",
    "plt.grid()\n",
    "plt.savefig(\"loss.png\",dpi=500)\n",
    "plt.show()"
   ]
  },
  {
   "cell_type": "code",
   "execution_count": 38,
   "id": "c653de2b",
   "metadata": {},
   "outputs": [],
   "source": [
    "train_predict=model.predict(train_x)\n",
    "test_predict=model.predict(test_x)"
   ]
  },
  {
   "cell_type": "code",
   "execution_count": 41,
   "id": "8af0b68d",
   "metadata": {},
   "outputs": [
    {
     "data": {
      "text/plain": [
       "array([[26.00104266]])"
      ]
     },
     "execution_count": 41,
     "metadata": {},
     "output_type": "execute_result"
    }
   ],
   "source": [
    "temp=math.sqrt(mean_squared_error(train_y,train_predict))\n",
    "close_scaler.inverse_transform([[temp]])"
   ]
  },
  {
   "cell_type": "code",
   "execution_count": 42,
   "id": "9c474c4e",
   "metadata": {},
   "outputs": [
    {
     "data": {
      "text/plain": [
       "array([[26.01443998]])"
      ]
     },
     "execution_count": 42,
     "metadata": {},
     "output_type": "execute_result"
    }
   ],
   "source": [
    "temp=math.sqrt(mean_squared_error(test_y,test_predict))\n",
    "close_scaler.inverse_transform([[temp]])"
   ]
  },
  {
   "cell_type": "code",
   "execution_count": 43,
   "id": "5d6f7e21",
   "metadata": {},
   "outputs": [
    {
     "data": {
      "text/plain": [
       "5.385215203336681"
      ]
     },
     "execution_count": 43,
     "metadata": {},
     "output_type": "execute_result"
    }
   ],
   "source": [
    "# MAPE\n",
    "MAPE = np.mean((np.abs(np.subtract(test_y, test_predict)/ test_y))) * 100"
   ]
  },
  {
   "cell_type": "code",
   "execution_count": 44,
   "id": "fc816b82",
   "metadata": {},
   "outputs": [
    {
     "data": {
      "text/plain": [
       "4.162295054562104"
      ]
     },
     "execution_count": 44,
     "metadata": {},
     "output_type": "execute_result"
    }
   ],
   "source": [
    "# MDAPE\n",
    "np.median((np.abs(np.subtract(test_y, test_predict)/ test_y)) ) * 100"
   ]
  },
  {
   "cell_type": "code",
   "execution_count": 24,
   "id": "6f635964",
   "metadata": {},
   "outputs": [],
   "source": [
    "train_predict=[close_scaler.inverse_transform(i.reshape(-1,1)) for i in train_predict]\n",
    "test_predict=[close_scaler.inverse_transform(i.reshape(-1,1)) for i in test_predict]"
   ]
  },
  {
   "cell_type": "code",
   "execution_count": 25,
   "id": "94ccef37",
   "metadata": {},
   "outputs": [],
   "source": [
    "def five2one(five):\n",
    "    one = [[] for _ in range(len(five)+4)]\n",
    "    for i in range(len(five)):\n",
    "        for j in range(5):\n",
    "            one[i+j].append(float(five[i][j]))\n",
    "    return [sum(i)/len(i) for i in one]"
   ]
  },
  {
   "cell_type": "code",
   "execution_count": 26,
   "id": "8353bfa3",
   "metadata": {},
   "outputs": [],
   "source": [
    "single_train_predict = five2one(train_predict)\n",
    "single_test_predict = five2one(test_predict)"
   ]
  },
  {
   "cell_type": "code",
   "execution_count": 27,
   "id": "1237eadb",
   "metadata": {},
   "outputs": [
    {
     "data": {
      "image/png": "[encoded data removed]",
      "text/plain": [
       "<Figure size 432x288 with 1 Axes>"
      ]
     },
     "metadata": {
      "needs_background": "light"
     },
     "output_type": "display_data"
    }
   ],
   "source": [
    "### Plotting \n",
    "# shift train predictions for plotting\n",
    "look_back=100\n",
    "trainPredictPlot = np.empty_like(data['Close'])\n",
    "trainPredictPlot[:] = np.nan\n",
    "trainPredictPlot[look_back:len(single_train_predict)+look_back] = single_train_predict\n",
    "# shift test predictions for plotting\n",
    "testPredictPlot = np.empty_like(data['Close'])\n",
    "testPredictPlot[:] = np.nan\n",
    "testPredictPlot[-len(single_test_predict):] = single_test_predict\n",
    "# plot baseline and predictions\n",
    "plt.plot(close_scaler.inverse_transform(np.array(data['Close']).reshape(-1,1)))\n",
    "plt.plot(trainPredictPlot)\n",
    "plt.plot(testPredictPlot)\n",
    "plt.savefig(\"result.png\",dpi=2000)\n",
    "plt.show()"
   ]
  },
  {
   "cell_type": "code",
   "execution_count": null,
   "id": "44172ccf",
   "metadata": {},
   "outputs": [],
   "source": []
  }
 ],
 "metadata": {
  "kernelspec": {
   "display_name": "Python 3",
   "language": "python",
   "name": "python3"
  },
  "language_info": {
   "codemirror_mode": {
    "name": "ipython",
    "version": 3
   },
   "file_extension": ".py",
   "mimetype": "text/x-python",
   "name": "python",
   "nbconvert_exporter": "python",
   "pygments_lexer": "ipython3",
   "version": "3.9.2"
  }
 },
 "nbformat": 4,
 "nbformat_minor": 5
}
